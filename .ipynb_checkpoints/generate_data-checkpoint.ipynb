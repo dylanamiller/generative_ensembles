{
 "cells": [
  {
   "cell_type": "code",
   "execution_count": null,
   "metadata": {},
   "outputs": [],
   "source": [
    "import json\n",
    "from collections import defaultdict\n",
    "from tqdm import tqdm\n",
    "\n",
    "import gym\n",
    "import pybulletgym # Import required to register environments"
   ]
  },
  {
   "cell_type": "code",
   "execution_count": null,
   "metadata": {},
   "outputs": [],
   "source": [
    "ENVIRONMENT = 'HopperPyBulletEnv-v0'\n",
    "samples = 1000000"
   ]
  },
  {
   "cell_type": "code",
   "execution_count": null,
   "metadata": {},
   "outputs": [],
   "source": [
    "def add_sample(data, obs, action, reward, next_obs, done):\n",
    "    data['observations'].append(obs)\n",
    "    data['actions'].append(action)\n",
    "    data['rewards'].append(reward)\n",
    "    data['next_observations'].append(next_obs)\n",
    "    data['dones'].append(done)\n",
    "    return data"
   ]
  },
  {
   "cell_type": "code",
   "execution_count": null,
   "metadata": {},
   "outputs": [],
   "source": [
    "data = defaultdict(list)\n",
    "\n",
    "env = gym.make(ENVIRONMENT)\n",
    "for steps in tqdm(range(samples)):\n",
    "    obs = env.reset()\n",
    "    while True:\n",
    "        action = env.action_space.sample()\n",
    "        next_obs, reward, done, info = env.step(action)\n",
    "        if done:\n",
    "            data = add_sample(data, obs, action, reward, next_obs, done)\n",
    "            break\n",
    "        \n",
    "        data = add_sample(data, obs, action, reward, next_obs, done)\n",
    "        obs = next_obs"
   ]
  },
  {
   "cell_type": "code",
   "execution_count": null,
   "metadata": {},
   "outputs": [],
   "source": [
    "with open('hopper_dataset.json', 'w') as fp:\n",
    "    json.dump(data, fp)"
   ]
  }
 ],
 "metadata": {
  "kernelspec": {
   "display_name": "Python 3",
   "language": "python",
   "name": "python3"
  },
  "language_info": {
   "codemirror_mode": {
    "name": "ipython",
    "version": 3
   },
   "file_extension": ".py",
   "mimetype": "text/x-python",
   "name": "python",
   "nbconvert_exporter": "python",
   "pygments_lexer": "ipython3",
   "version": "3.8.5"
  }
 },
 "nbformat": 4,
 "nbformat_minor": 4
}
