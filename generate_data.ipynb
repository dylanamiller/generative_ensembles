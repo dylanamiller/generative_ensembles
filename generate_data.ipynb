{
 "cells": [
  {
   "cell_type": "code",
   "execution_count": 1,
   "metadata": {},
   "outputs": [],
   "source": [
    "import json\n",
    "from collections import defaultdict\n",
    "from tqdm import tqdm\n",
    "\n",
    "import numpy as np\n",
    "\n",
    "import gym\n",
    "import pybulletgym # Import required to register environments"
   ]
  },
  {
   "cell_type": "code",
   "execution_count": 2,
   "metadata": {},
   "outputs": [],
   "source": [
    "ENVIRONMENT = 'HopperPyBulletEnv-v0'\n",
    "samples = 100000"
   ]
  },
  {
   "cell_type": "code",
   "execution_count": 3,
   "metadata": {},
   "outputs": [],
   "source": [
    "def add_sample(data, obs, action, reward, next_obs, done):\n",
    "    data['observations'].append(obs.tolist())\n",
    "    data['actions'].append(action.tolist())\n",
    "    data['rewards'].append(reward)\n",
    "    data['next_observations'].append(next_obs.tolist())\n",
    "    data['dones'].append(done)\n",
    "    return data"
   ]
  },
  {
   "cell_type": "code",
   "execution_count": 4,
   "metadata": {},
   "outputs": [
    {
     "name": "stderr",
     "output_type": "stream",
     "text": [
      "/home/dylan/miniconda3/envs/offline/lib/python3.8/site-packages/gym/logger.py:30: UserWarning: \u001b[33mWARN: Box bound precision lowered by casting to float32\u001b[0m\n",
      "  warnings.warn(colorize('%s: %s'%('WARN', msg % args), 'yellow'))\n",
      "  0%|          | 13/1000000 [00:00<2:09:41, 128.50it/s]"
     ]
    },
    {
     "name": "stdout",
     "output_type": "stream",
     "text": [
      "WalkerBase::__init__\n"
     ]
    },
    {
     "name": "stderr",
     "output_type": "stream",
     "text": [
      "100%|██████████| 1000000/1000000 [1:52:41<00:00, 147.90it/s]\n"
     ]
    }
   ],
   "source": [
    "data = defaultdict(list)\n",
    "\n",
    "env = gym.make(ENVIRONMENT)\n",
    "for steps in tqdm(range(samples)):\n",
    "    obs = env.reset()\n",
    "    while True:\n",
    "        action = env.action_space.sample()\n",
    "        next_obs, reward, done, info = env.step(action)\n",
    "        if done:\n",
    "            data = add_sample(data, obs, action, reward, next_obs, done)\n",
    "            break\n",
    "        \n",
    "        data = add_sample(data, obs, action, reward, next_obs, done)\n",
    "        obs = next_obs"
   ]
  },
  {
   "cell_type": "code",
   "execution_count": 9,
   "metadata": {},
   "outputs": [],
   "source": [
    "# import numpy as np\n",
    "\n",
    "# for key,value in data.items():\n",
    "#     data[key] = [v.tolist() for v in value if type(v).__module__ == np.__name__]"
   ]
  },
  {
   "cell_type": "code",
   "execution_count": 10,
   "metadata": {},
   "outputs": [],
   "source": [
    "with open('hopper_dataset.json', 'w') as fp:\n",
    "    json.dump(data, fp)"
   ]
  }
 ],
 "metadata": {
  "kernelspec": {
   "display_name": "Python 3",
   "language": "python",
   "name": "python3"
  },
  "language_info": {
   "codemirror_mode": {
    "name": "ipython",
    "version": 3
   },
   "file_extension": ".py",
   "mimetype": "text/x-python",
   "name": "python",
   "nbconvert_exporter": "python",
   "pygments_lexer": "ipython3",
   "version": "3.8.5"
  }
 },
 "nbformat": 4,
 "nbformat_minor": 4
}