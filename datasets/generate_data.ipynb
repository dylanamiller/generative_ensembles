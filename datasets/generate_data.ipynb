{
 "cells": [
  {
   "cell_type": "code",
   "execution_count": 1,
   "metadata": {},
   "outputs": [],
   "source": [
    "import json\n",
    "from collections import defaultdict\n",
    "from tqdm import tqdm\n",
    "\n",
    "import numpy as np\n",
    "\n",
    "import gym\n",
    "import pybulletgym # Import required to register environments"
   ]
  },
  {
   "cell_type": "code",
   "execution_count": 2,
   "metadata": {},
   "outputs": [],
   "source": [
    "ENVIRONMENT = 'HopperPyBulletEnv-v0'\n",
    "JSONFILE = 'hopper_random_agent.json'\n",
    "samples = 100000"
   ]
  },
  {
   "cell_type": "code",
   "execution_count": 3,
   "metadata": {},
   "outputs": [],
   "source": [
    "def add_sample(data, obs, action, reward, next_obs, done):\n",
    "    data['observations'].append(obs.tolist())\n",
    "    data['actions'].append(action.tolist())\n",
    "    data['rewards'].append(reward)\n",
    "    data['next_observations'].append(next_obs.tolist())\n",
    "    data['dones'].append(done)\n",
    "    return data"
   ]
  },
  {
   "cell_type": "code",
   "execution_count": 4,
   "metadata": {},
   "outputs": [
    {
     "name": "stderr",
     "output_type": "stream",
     "text": [
      "/home/dylan/miniconda3/envs/offline/lib/python3.8/site-packages/gym/logger.py:30: UserWarning: \u001b[33mWARN: Box bound precision lowered by casting to float32\u001b[0m\n",
      "  warnings.warn(colorize('%s: %s'%('WARN', msg % args), 'yellow'))\n",
      "  0%|          | 130/100000 [00:00<01:16, 1297.16it/s]"
     ]
    },
    {
     "name": "stdout",
     "output_type": "stream",
     "text": [
      "WalkerBase::__init__\n"
     ]
    },
    {
     "name": "stderr",
     "output_type": "stream",
     "text": [
      "100002it [00:59, 1688.12it/s]                           \n"
     ]
    }
   ],
   "source": [
    "data = defaultdict(list)\n",
    "s = 0\n",
    "\n",
    "env = gym.make(ENVIRONMENT)\n",
    "\n",
    "pbar = tqdm(total=samples)\n",
    "while s < samples:\n",
    "    obs = env.reset()\n",
    "    while True:\n",
    "        action = env.action_space.sample()\n",
    "        next_obs, reward, done, info = env.step(action)\n",
    "        data = add_sample(data, obs, action, reward, next_obs, done)\n",
    "        pbar.update(1)\n",
    "        s += 1\n",
    "        \n",
    "        if done:\n",
    "            break\n",
    "        \n",
    "        obs = next_obs\n",
    "pbar.close()"
   ]
  },
  {
   "cell_type": "code",
   "execution_count": 5,
   "metadata": {},
   "outputs": [
    {
     "name": "stdout",
     "output_type": "stream",
     "text": [
      "observations 100002\n",
      "actions 100002\n",
      "rewards 100002\n",
      "next_observations 100002\n",
      "dones 100002\n"
     ]
    }
   ],
   "source": [
    "for k, v in data.items():\n",
    "    print(k, len(v))"
   ]
  },
  {
   "cell_type": "code",
   "execution_count": 6,
   "metadata": {},
   "outputs": [],
   "source": [
    "with open(JSONFILE, 'w') as fp:\n",
    "    json.dump(data, fp)"
   ]
  }
 ],
 "metadata": {
  "kernelspec": {
   "display_name": "Python 3",
   "language": "python",
   "name": "python3"
  },
  "language_info": {
   "codemirror_mode": {
    "name": "ipython",
    "version": 3
   },
   "file_extension": ".py",
   "mimetype": "text/x-python",
   "name": "python",
   "nbconvert_exporter": "python",
   "pygments_lexer": "ipython3",
   "version": "3.8.5"
  }
 },
 "nbformat": 4,
 "nbformat_minor": 4
}
